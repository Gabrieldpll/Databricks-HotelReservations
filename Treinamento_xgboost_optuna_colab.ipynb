{
  "cells": [
    {
      "cell_type": "markdown",
      "metadata": {
        "id": "view-in-github",
        "colab_type": "text"
      },
      "source": [
        "<a href=\"https://colab.research.google.com/github/Gabrieldpll/Databricks-HotelReservations/blob/main/Treinamento_xgboost_optuna_colab.ipynb\" target=\"_parent\"><img src=\"https://colab.research.google.com/assets/colab-badge.svg\" alt=\"Open In Colab\"/></a>"
      ]
    },
    {
      "cell_type": "markdown",
      "source": [
        "# ambiente\n",
        "\n"
      ],
      "metadata": {
        "id": "gQwVh3P60m8n"
      }
    },
    {
      "cell_type": "code",
      "source": [
        "!apt-get install openjdk-8-jdk-headless -qq > /dev/null\n",
        "!wget -q http://archive.apache.org/dist/spark/spark-3.5.1/spark-3.5.1-bin-hadoop3.tgz\n",
        "!tar xf spark-3.5.1-bin-hadoop3.tgz\n",
        "!pip install -q findspark"
      ],
      "metadata": {
        "id": "cfOCkYhv0iep"
      },
      "execution_count": 1,
      "outputs": []
    },
    {
      "cell_type": "code",
      "execution_count": 2,
      "metadata": {
        "application/vnd.databricks.v1+cell": {
          "cellMetadata": {
            "byteLimit": 2048000,
            "rowLimit": 10000
          },
          "inputWidgets": {},
          "nuid": "dfa3b3dc-2d1c-40b1-b514-8daffac42fc8",
          "showTitle": false,
          "tableResultSettingsMap": {},
          "title": ""
        },
        "colab": {
          "base_uri": "https://localhost:8080/"
        },
        "id": "BCjrD7Cb0fHA",
        "outputId": "ad9c5df8-f8fc-4f3c-8e36-d0b2f0733f66"
      },
      "outputs": [
        {
          "output_type": "stream",
          "name": "stdout",
          "text": [
            "Requirement already satisfied: xgboost in /usr/local/lib/python3.10/dist-packages (2.1.3)\n",
            "Requirement already satisfied: numpy in /usr/local/lib/python3.10/dist-packages (from xgboost) (1.26.4)\n",
            "Requirement already satisfied: nvidia-nccl-cu12 in /usr/local/lib/python3.10/dist-packages (from xgboost) (2.23.4)\n",
            "Requirement already satisfied: scipy in /usr/local/lib/python3.10/dist-packages (from xgboost) (1.13.1)\n"
          ]
        }
      ],
      "source": [
        "!pip install xgboost"
      ]
    },
    {
      "cell_type": "code",
      "source": [],
      "metadata": {
        "id": "-YxgSYCO0tm_"
      },
      "execution_count": null,
      "outputs": []
    },
    {
      "cell_type": "code",
      "execution_count": 3,
      "metadata": {
        "application/vnd.databricks.v1+cell": {
          "cellMetadata": {
            "byteLimit": 2048000,
            "rowLimit": 10000
          },
          "inputWidgets": {},
          "nuid": "a6baf0cc-83a8-4e99-98f0-053e98615bd7",
          "showTitle": false,
          "tableResultSettingsMap": {},
          "title": ""
        },
        "colab": {
          "base_uri": "https://localhost:8080/"
        },
        "id": "v4uiGda70fHB",
        "outputId": "8f73eba7-860b-4213-91d0-d3336e660f5d"
      },
      "outputs": [
        {
          "output_type": "stream",
          "name": "stdout",
          "text": [
            "Collecting optuna\n",
            "  Downloading optuna-4.1.0-py3-none-any.whl.metadata (16 kB)\n",
            "Collecting alembic>=1.5.0 (from optuna)\n",
            "  Downloading alembic-1.14.0-py3-none-any.whl.metadata (7.4 kB)\n",
            "Collecting colorlog (from optuna)\n",
            "  Downloading colorlog-6.9.0-py3-none-any.whl.metadata (10 kB)\n",
            "Requirement already satisfied: numpy in /usr/local/lib/python3.10/dist-packages (from optuna) (1.26.4)\n",
            "Requirement already satisfied: packaging>=20.0 in /usr/local/lib/python3.10/dist-packages (from optuna) (24.2)\n",
            "Requirement already satisfied: sqlalchemy>=1.4.2 in /usr/local/lib/python3.10/dist-packages (from optuna) (2.0.36)\n",
            "Requirement already satisfied: tqdm in /usr/local/lib/python3.10/dist-packages (from optuna) (4.66.6)\n",
            "Requirement already satisfied: PyYAML in /usr/local/lib/python3.10/dist-packages (from optuna) (6.0.2)\n",
            "Collecting Mako (from alembic>=1.5.0->optuna)\n",
            "  Downloading Mako-1.3.8-py3-none-any.whl.metadata (2.9 kB)\n",
            "Requirement already satisfied: typing-extensions>=4 in /usr/local/lib/python3.10/dist-packages (from alembic>=1.5.0->optuna) (4.12.2)\n",
            "Requirement already satisfied: greenlet!=0.4.17 in /usr/local/lib/python3.10/dist-packages (from sqlalchemy>=1.4.2->optuna) (3.1.1)\n",
            "Requirement already satisfied: MarkupSafe>=0.9.2 in /usr/local/lib/python3.10/dist-packages (from Mako->alembic>=1.5.0->optuna) (3.0.2)\n",
            "Downloading optuna-4.1.0-py3-none-any.whl (364 kB)\n",
            "\u001b[2K   \u001b[90m━━━━━━━━━━━━━━━━━━━━━━━━━━━━━━━━━━━━━━━━\u001b[0m \u001b[32m364.4/364.4 kB\u001b[0m \u001b[31m8.4 MB/s\u001b[0m eta \u001b[36m0:00:00\u001b[0m\n",
            "\u001b[?25hDownloading alembic-1.14.0-py3-none-any.whl (233 kB)\n",
            "\u001b[2K   \u001b[90m━━━━━━━━━━━━━━━━━━━━━━━━━━━━━━━━━━━━━━━━\u001b[0m \u001b[32m233.5/233.5 kB\u001b[0m \u001b[31m10.5 MB/s\u001b[0m eta \u001b[36m0:00:00\u001b[0m\n",
            "\u001b[?25hDownloading colorlog-6.9.0-py3-none-any.whl (11 kB)\n",
            "Downloading Mako-1.3.8-py3-none-any.whl (78 kB)\n",
            "\u001b[2K   \u001b[90m━━━━━━━━━━━━━━━━━━━━━━━━━━━━━━━━━━━━━━━━\u001b[0m \u001b[32m78.6/78.6 kB\u001b[0m \u001b[31m4.1 MB/s\u001b[0m eta \u001b[36m0:00:00\u001b[0m\n",
            "\u001b[?25hInstalling collected packages: Mako, colorlog, alembic, optuna\n",
            "Successfully installed Mako-1.3.8 alembic-1.14.0 colorlog-6.9.0 optuna-4.1.0\n"
          ]
        }
      ],
      "source": [
        "!pip install optuna"
      ]
    },
    {
      "cell_type": "code",
      "source": [
        "import os\n",
        "os.environ[\"JAVA_HOME\"] = \"/usr/lib/jvm/java-8-openjdk-amd64\"\n",
        "os.environ[\"SPARK_HOME\"] = \"/content/spark-3.5.1-bin-hadoop3\""
      ],
      "metadata": {
        "id": "OLcqHZKv1HwQ"
      },
      "execution_count": 4,
      "outputs": []
    },
    {
      "cell_type": "code",
      "source": [
        "import findspark\n",
        "findspark.init()\n",
        "from pyspark.sql import SparkSession\n",
        "spark = SparkSession.builder.master(\"local[*]\").getOrCreate()\n",
        "spark.conf.set(\"spark.sql.repl.eagerEval.enabled\", True) # Property used to format output tables better\n",
        "spark"
      ],
      "metadata": {
        "colab": {
          "base_uri": "https://localhost:8080/",
          "height": 219
        },
        "id": "Wq-5QffA1KOn",
        "outputId": "33c145fb-79a0-426d-b76a-d36d7a5c0cd6"
      },
      "execution_count": 5,
      "outputs": [
        {
          "output_type": "execute_result",
          "data": {
            "text/plain": [
              "<pyspark.sql.session.SparkSession at 0x7bd348df6110>"
            ],
            "text/html": [
              "\n",
              "            <div>\n",
              "                <p><b>SparkSession - in-memory</b></p>\n",
              "                \n",
              "        <div>\n",
              "            <p><b>SparkContext</b></p>\n",
              "\n",
              "            <p><a href=\"http://85e7f36b09ec:4040\">Spark UI</a></p>\n",
              "\n",
              "            <dl>\n",
              "              <dt>Version</dt>\n",
              "                <dd><code>v3.5.1</code></dd>\n",
              "              <dt>Master</dt>\n",
              "                <dd><code>local[*]</code></dd>\n",
              "              <dt>AppName</dt>\n",
              "                <dd><code>pyspark-shell</code></dd>\n",
              "            </dl>\n",
              "        </div>\n",
              "        \n",
              "            </div>\n",
              "        "
            ]
          },
          "metadata": {},
          "execution_count": 5
        }
      ]
    },
    {
      "cell_type": "code",
      "execution_count": 6,
      "metadata": {
        "application/vnd.databricks.v1+cell": {
          "cellMetadata": {
            "byteLimit": 2048000,
            "rowLimit": 10000
          },
          "inputWidgets": {},
          "nuid": "b0430f0f-22ed-4b9c-8d2b-cde9b03eb17b",
          "showTitle": false,
          "tableResultSettingsMap": {},
          "title": ""
        },
        "id": "Xdvw5bp10fHC"
      },
      "outputs": [],
      "source": [
        "from pyspark.sql import functions as F\n",
        "import xgboost"
      ]
    },
    {
      "cell_type": "code",
      "execution_count": 7,
      "metadata": {
        "application/vnd.databricks.v1+cell": {
          "cellMetadata": {
            "byteLimit": 2048000,
            "rowLimit": 10000
          },
          "inputWidgets": {},
          "nuid": "2c15ba4c-6884-4829-953e-f2eb76de79d3",
          "showTitle": false,
          "tableResultSettingsMap": {},
          "title": ""
        },
        "id": "mC_OuWmf0fHD"
      },
      "outputs": [],
      "source": [
        "from  pyspark.ml import Pipeline\n",
        "from pyspark.ml.feature import StringIndexer,VectorAssembler, OneHotEncoder\n",
        "from pyspark.sql.types import  BooleanType, DateType, DoubleType, IntegerType, StringType\n",
        "from pyspark.ml.tuning import CrossValidator, ParamGridBuilder\n",
        "from pyspark.ml.evaluation import BinaryClassificationEvaluator\n",
        "from xgboost.spark import SparkXGBClassifier\n"
      ]
    },
    {
      "cell_type": "markdown",
      "metadata": {
        "application/vnd.databricks.v1+cell": {
          "cellMetadata": {},
          "inputWidgets": {},
          "nuid": "1feb8f99-acd9-48d9-b9ef-daad766f52ee",
          "showTitle": false,
          "tableResultSettingsMap": {},
          "title": ""
        },
        "id": "MQ1vyZXH0fHD"
      },
      "source": [
        "# processamento\n"
      ]
    },
    {
      "cell_type": "code",
      "execution_count": 8,
      "metadata": {
        "application/vnd.databricks.v1+cell": {
          "cellMetadata": {
            "byteLimit": 2048000,
            "rowLimit": 10000
          },
          "inputWidgets": {},
          "nuid": "0148d56b-4214-45cb-9e9f-de88022f8cb3",
          "showTitle": false,
          "tableResultSettingsMap": {},
          "title": ""
        },
        "id": "FsjlK6MY0fHF"
      },
      "outputs": [],
      "source": [
        "dados = (spark.read\n",
        "         .format('csv')\n",
        "         .option('header', 'true')\n",
        "         .option('sep' , ',')\n",
        "\n",
        "         .option('inferSchema', 'true')  # Para inferir os tipos de dados automaticamente\n",
        "         .load('/content/hotel_dataframe.csv')\n",
        "        )\n"
      ]
    },
    {
      "cell_type": "code",
      "execution_count": 9,
      "metadata": {
        "application/vnd.databricks.v1+cell": {
          "cellMetadata": {
            "byteLimit": 2048000,
            "rowLimit": 10000
          },
          "inputWidgets": {},
          "nuid": "da20ec28-21cb-40f8-a808-e27fe6af51fb",
          "showTitle": false,
          "tableResultSettingsMap": {},
          "title": ""
        },
        "colab": {
          "base_uri": "https://localhost:8080/"
        },
        "id": "nhpq7JGC0fHG",
        "outputId": "fac4af3a-65f5-46d4-de69-9fe0c384adaa"
      },
      "outputs": [
        {
          "output_type": "execute_result",
          "data": {
            "text/plain": [
              "['no_of_adults',\n",
              " 'no_of_children',\n",
              " 'no_of_weekend_nights',\n",
              " 'no_of_week_nights',\n",
              " 'type_of_meal_plan',\n",
              " 'required_car_parking_space',\n",
              " 'room_type_reserved',\n",
              " 'lead_time',\n",
              " 'arrival_year',\n",
              " 'arrival_month',\n",
              " 'arrival_date',\n",
              " 'market_segment_type',\n",
              " 'repeated_guest',\n",
              " 'no_of_previous_cancellations',\n",
              " 'no_of_previous_bookings_not_canceled',\n",
              " 'avg_price_per_room',\n",
              " 'no_of_special_requests',\n",
              " 'booking_status',\n",
              " 'is_duplicated',\n",
              " 'duplicated_count',\n",
              " 'data',\n",
              " 'Trimestre',\n",
              " 'feriado']"
            ]
          },
          "metadata": {},
          "execution_count": 9
        }
      ],
      "source": [
        "dados.columns"
      ]
    },
    {
      "cell_type": "code",
      "execution_count": 10,
      "metadata": {
        "application/vnd.databricks.v1+cell": {
          "cellMetadata": {
            "byteLimit": 2048000,
            "rowLimit": 10000
          },
          "inputWidgets": {},
          "nuid": "e40dbb46-600a-4b91-92bf-f7a603e5c603",
          "showTitle": false,
          "tableResultSettingsMap": {},
          "title": ""
        },
        "id": "3Xk_i9-o0fHG"
      },
      "outputs": [],
      "source": [
        "train, test = dados.randomSplit([0.8, 0.2], seed= 13)"
      ]
    },
    {
      "cell_type": "code",
      "execution_count": 11,
      "metadata": {
        "application/vnd.databricks.v1+cell": {
          "cellMetadata": {
            "byteLimit": 2048000,
            "rowLimit": 10000
          },
          "inputWidgets": {},
          "nuid": "c237d23b-89bb-401c-bec7-8f36e8e85b6e",
          "showTitle": false,
          "tableResultSettingsMap": {},
          "title": ""
        },
        "id": "EssDriOq0fHH"
      },
      "outputs": [],
      "source": [
        "#Remover target e atributos relacionados a data da matriz de atribuos\n",
        "cols_to_use = train.columns\n",
        "cols_to_use.remove('booking_status')\n",
        "cols_to_use.remove('data') # Remover data (deve ser usada so para fins de validação/exploratório)\n",
        "cols_to_use.remove('arrival_date')"
      ]
    },
    {
      "cell_type": "code",
      "execution_count": 12,
      "metadata": {
        "application/vnd.databricks.v1+cell": {
          "cellMetadata": {
            "byteLimit": 2048000,
            "rowLimit": 10000
          },
          "inputWidgets": {},
          "nuid": "706a2e1a-68d6-4663-bfb6-67908adef460",
          "showTitle": false,
          "tableResultSettingsMap": {},
          "title": ""
        },
        "colab": {
          "base_uri": "https://localhost:8080/"
        },
        "id": "ElxWiiZu0fHH",
        "outputId": "0442b7af-8234-4450-8cee-032ec9778e2e"
      },
      "outputs": [
        {
          "output_type": "stream",
          "name": "stdout",
          "text": [
            "+-----------------+------------------+-------------------+--------------+---------+\n",
            "|type_of_meal_plan|room_type_reserved|market_segment_type|booking_status|Trimestre|\n",
            "+-----------------+------------------+-------------------+--------------+---------+\n",
            "|                3|                 7|                  5|             2|        3|\n",
            "+-----------------+------------------+-------------------+--------------+---------+\n",
            "\n"
          ]
        }
      ],
      "source": [
        "# verificar a cardinalidade de cada coluna categorica\n",
        "cat_cols_df = [col.name for col in train.schema if col.dataType == StringType()]\n",
        "\n",
        "train.select(*[F.countDistinct(col).alias(col) for col in cat_cols_df]).show()\n",
        "\n",
        "\n",
        "\n"
      ]
    },
    {
      "cell_type": "markdown",
      "metadata": {
        "application/vnd.databricks.v1+cell": {
          "cellMetadata": {},
          "inputWidgets": {},
          "nuid": "866bebda-5528-46c8-8786-dbdd7ced2a5f",
          "showTitle": false,
          "tableResultSettingsMap": {},
          "title": ""
        },
        "id": "1f7zbi3m0fHI"
      },
      "source": [
        "Como há pouca cardinalidade, vamos utilizar o one hot encoding"
      ]
    },
    {
      "cell_type": "code",
      "execution_count": 13,
      "metadata": {
        "application/vnd.databricks.v1+cell": {
          "cellMetadata": {
            "byteLimit": 2048000,
            "rowLimit": 10000
          },
          "inputWidgets": {},
          "nuid": "674418e2-bb75-4e72-9b6e-abc75f95b189",
          "showTitle": false,
          "tableResultSettingsMap": {},
          "title": ""
        },
        "id": "c2yX7l9N0fHI"
      },
      "outputs": [],
      "source": [
        "stages = []"
      ]
    },
    {
      "cell_type": "code",
      "execution_count": 14,
      "metadata": {
        "application/vnd.databricks.v1+cell": {
          "cellMetadata": {
            "byteLimit": 2048000,
            "rowLimit": 10000
          },
          "inputWidgets": {},
          "nuid": "421416be-51bb-4384-9a1f-ac7d492a8fab",
          "showTitle": false,
          "tableResultSettingsMap": {},
          "title": ""
        },
        "id": "Gt8ih7fJ0fHI"
      },
      "outputs": [],
      "source": [
        "label_transform  = StringIndexer(inputCol=\"booking_status\", outputCol=\"label\")\n",
        "stages.append(label_transform)"
      ]
    },
    {
      "cell_type": "code",
      "execution_count": 15,
      "metadata": {
        "application/vnd.databricks.v1+cell": {
          "cellMetadata": {
            "byteLimit": 2048000,
            "rowLimit": 10000
          },
          "inputWidgets": {},
          "nuid": "5d5e733f-fee1-44d0-a367-be77f129a0ee",
          "showTitle": false,
          "tableResultSettingsMap": {},
          "title": ""
        },
        "id": "6NZ_dzam0fHI"
      },
      "outputs": [],
      "source": [
        "# colunas categoricas do pipeline , isso é que são codificadas como StringType() e estão na lista de colunas permitidas\n",
        "cat_cols_pipe = [col.name for col in train.schema if (col.dataType ==  StringType() and col.name in cols_to_use)]\n",
        "ohe_cat_cols = []\n",
        "\n",
        "for col in cat_cols_pipe:\n",
        "    indexer = StringIndexer(inputCol=col , outputCol= f'{col}_idx', handleInvalid = 'keep')\n",
        "    stages.append(indexer)\n",
        "    one_hot = OneHotEncoder(inputCol=f'{col}_idx' , outputCol= f'{col}_ohe')\n",
        "    stages.append(one_hot)\n",
        "    ohe_cat_cols.append(f'{col}_ohe')"
      ]
    },
    {
      "cell_type": "code",
      "execution_count": 16,
      "metadata": {
        "application/vnd.databricks.v1+cell": {
          "cellMetadata": {
            "byteLimit": 2048000,
            "rowLimit": 10000
          },
          "inputWidgets": {},
          "nuid": "501704da-63c2-4c0a-941c-9d576101f225",
          "showTitle": false,
          "tableResultSettingsMap": {},
          "title": ""
        },
        "colab": {
          "base_uri": "https://localhost:8080/"
        },
        "id": "mQVBvwZW0fHI",
        "outputId": "43278bc7-31fb-4f73-c315-9acf8eb5c17c"
      },
      "outputs": [
        {
          "output_type": "execute_result",
          "data": {
            "text/plain": [
              "['type_of_meal_plan', 'room_type_reserved', 'market_segment_type', 'Trimestre']"
            ]
          },
          "metadata": {},
          "execution_count": 16
        }
      ],
      "source": [
        "cat_cols_pipe"
      ]
    },
    {
      "cell_type": "code",
      "execution_count": 17,
      "metadata": {
        "application/vnd.databricks.v1+cell": {
          "cellMetadata": {
            "byteLimit": 2048000,
            "rowLimit": 10000
          },
          "inputWidgets": {},
          "nuid": "442b07c5-de2e-412e-8f90-854783ea91ef",
          "showTitle": false,
          "tableResultSettingsMap": {},
          "title": ""
        },
        "colab": {
          "base_uri": "https://localhost:8080/"
        },
        "id": "rKPE_NcB0fHJ",
        "outputId": "c86320c5-3001-4eca-a0f5-d900e6d2ce56"
      },
      "outputs": [
        {
          "output_type": "stream",
          "name": "stdout",
          "text": [
            "root\n",
            " |-- required_car_parking_space: integer (nullable = true)\n",
            " |-- is_duplicated: boolean (nullable = true)\n",
            " |-- arrival_month: integer (nullable = true)\n",
            " |-- feriado: integer (nullable = true)\n",
            " |-- no_of_special_requests: integer (nullable = true)\n",
            " |-- avg_price_per_room: double (nullable = true)\n",
            " |-- no_of_previous_bookings_not_canceled: integer (nullable = true)\n",
            " |-- duplicated_count: integer (nullable = true)\n",
            " |-- no_of_week_nights: integer (nullable = true)\n",
            " |-- lead_time: integer (nullable = true)\n",
            " |-- no_of_children: integer (nullable = true)\n",
            " |-- no_of_previous_cancellations: integer (nullable = true)\n",
            " |-- no_of_weekend_nights: integer (nullable = true)\n",
            " |-- arrival_year: integer (nullable = true)\n",
            " |-- repeated_guest: integer (nullable = true)\n",
            " |-- no_of_adults: integer (nullable = true)\n",
            "\n"
          ]
        }
      ],
      "source": [
        "# verficiar as colunas restantes\n",
        "not_cat_cols = list(set(cols_to_use) - set(cat_cols_pipe))\n",
        "train.select(not_cat_cols).printSchema()"
      ]
    },
    {
      "cell_type": "code",
      "execution_count": 18,
      "metadata": {
        "application/vnd.databricks.v1+cell": {
          "cellMetadata": {
            "byteLimit": 2048000,
            "rowLimit": 10000
          },
          "inputWidgets": {},
          "nuid": "e4d962f4-c3e9-43f0-b74a-aecf14954242",
          "showTitle": false,
          "tableResultSettingsMap": {},
          "title": ""
        },
        "id": "myKGsqHz0fHJ"
      },
      "outputs": [],
      "source": [
        "# vamos codificá-las tods como númericas\n",
        "num_proces = VectorAssembler(inputCols = not_cat_cols , outputCol = 'num_features',handleInvalid = 'keep')\n",
        "stages.append(num_proces)"
      ]
    },
    {
      "cell_type": "code",
      "execution_count": 19,
      "metadata": {
        "application/vnd.databricks.v1+cell": {
          "cellMetadata": {
            "byteLimit": 2048000,
            "rowLimit": 10000
          },
          "inputWidgets": {},
          "nuid": "4333a7eb-f697-4f91-8a49-b9e82d77c04e",
          "showTitle": false,
          "tableResultSettingsMap": {},
          "title": ""
        },
        "id": "6wQwR9Ze0fHJ"
      },
      "outputs": [],
      "source": [
        "# juntar tudo em um vetor de features\n",
        "columns_pipe = ohe_cat_cols + ['num_features']\n",
        "final_process =  num_proces = VectorAssembler(inputCols = columns_pipe , outputCol = 'features')\n",
        "stages.append(final_process)"
      ]
    },
    {
      "cell_type": "code",
      "execution_count": 20,
      "metadata": {
        "application/vnd.databricks.v1+cell": {
          "cellMetadata": {
            "byteLimit": 2048000,
            "rowLimit": 10000
          },
          "inputWidgets": {},
          "nuid": "324dab35-4159-457c-b91d-743c1255f835",
          "showTitle": false,
          "tableResultSettingsMap": {},
          "title": ""
        },
        "colab": {
          "base_uri": "https://localhost:8080/"
        },
        "id": "2OUCgeYQ0fHJ",
        "outputId": "3894171d-fdda-4090-cce2-ab37eec673d5"
      },
      "outputs": [
        {
          "output_type": "stream",
          "name": "stdout",
          "text": [
            "numero de clusters xgb 2\n"
          ]
        }
      ],
      "source": [
        "num_cluster = spark.sparkContext.defaultParallelism\n",
        "print(f\"numero de clusters xgb {num_cluster}\")\n",
        "\n",
        "#xgb = SparkXGBClassifier(num_workers= num_cluster, label_col=\"label\", featuresCol = 'features')"
      ]
    },
    {
      "cell_type": "code",
      "execution_count": null,
      "metadata": {
        "application/vnd.databricks.v1+cell": {
          "cellMetadata": {
            "byteLimit": 2048000,
            "rowLimit": 10000
          },
          "inputWidgets": {},
          "nuid": "ea0f44c5-7df6-4d09-bcd0-3834662c726e",
          "showTitle": false,
          "tableResultSettingsMap": {},
          "title": ""
        },
        "id": "e_idA0mw0fHK"
      },
      "outputs": [],
      "source": [
        "# xgb_model = SparkXGBClassifier(num_workers= num_cluster, label_col=\"label\", features_col  = 'features')\n",
        "# stages.append(xgb_model)\n"
      ]
    },
    {
      "cell_type": "markdown",
      "metadata": {
        "application/vnd.databricks.v1+cell": {
          "cellMetadata": {},
          "inputWidgets": {},
          "nuid": "2b617187-9828-4d72-aa0a-6005a3707fab",
          "showTitle": false,
          "tableResultSettingsMap": {},
          "title": ""
        },
        "id": "xHnjs7MA0fHK"
      },
      "source": [
        "# Ajuste optuna"
      ]
    },
    {
      "cell_type": "code",
      "execution_count": 21,
      "metadata": {
        "application/vnd.databricks.v1+cell": {
          "cellMetadata": {
            "byteLimit": 2048000,
            "rowLimit": 10000
          },
          "inputWidgets": {},
          "nuid": "b6432662-e586-4f5c-b208-169af9006ddf",
          "showTitle": false,
          "tableResultSettingsMap": {},
          "title": ""
        },
        "id": "TLASzHH50fHK"
      },
      "outputs": [],
      "source": [
        "import optuna\n",
        "from pyspark.ml.tuning import CrossValidator,ParamGridBuilder\n"
      ]
    },
    {
      "cell_type": "code",
      "execution_count": 22,
      "metadata": {
        "application/vnd.databricks.v1+cell": {
          "cellMetadata": {
            "byteLimit": 2048000,
            "rowLimit": 10000
          },
          "inputWidgets": {},
          "nuid": "d4ac75c0-4769-43bb-bb67-dec1aec762b5",
          "showTitle": false,
          "tableResultSettingsMap": {},
          "title": ""
        },
        "id": "gE5Fjt4y0fHK"
      },
      "outputs": [],
      "source": [
        "pipeline = Pipeline(stages= stages)\n",
        "pipelineModel = pipeline.fit(train)"
      ]
    },
    {
      "cell_type": "code",
      "execution_count": 23,
      "metadata": {
        "application/vnd.databricks.v1+cell": {
          "cellMetadata": {
            "byteLimit": 2048000,
            "rowLimit": 10000
          },
          "inputWidgets": {},
          "nuid": "7cb99092-4311-41b5-bd76-311c2cb07740",
          "showTitle": false,
          "tableResultSettingsMap": {},
          "title": ""
        },
        "id": "7-C-egxp0fHK"
      },
      "outputs": [],
      "source": [
        "train_transformed=  pipelineModel.transform(train)\n",
        "test_transformed =  pipelineModel.transform(test)"
      ]
    },
    {
      "cell_type": "code",
      "execution_count": 24,
      "metadata": {
        "application/vnd.databricks.v1+cell": {
          "cellMetadata": {
            "byteLimit": 2048000,
            "rowLimit": 10000
          },
          "inputWidgets": {},
          "nuid": "a6c964b9-33b5-4be5-836d-aef022e95616",
          "showTitle": false,
          "tableResultSettingsMap": {},
          "title": ""
        },
        "colab": {
          "base_uri": "https://localhost:8080/"
        },
        "id": "ukxVQTVt0fHK",
        "outputId": "9b14e4f9-3988-4409-825a-733cb57b1944"
      },
      "outputs": [
        {
          "output_type": "execute_result",
          "data": {
            "text/plain": [
              "[Row(no_of_adults=0, no_of_children=1, no_of_weekend_nights=2, no_of_week_nights=4, type_of_meal_plan='Meal Plan 1', required_car_parking_space=0, room_type_reserved='Room_Type 2', lead_time=109, arrival_year=2018, arrival_month=4, arrival_date=1, market_segment_type='Online', repeated_guest=0, no_of_previous_cancellations=0, no_of_previous_bookings_not_canceled=0, avg_price_per_room=73.74, no_of_special_requests=1, booking_status='Not_Canceled', is_duplicated=False, duplicated_count=0, data=datetime.date(2018, 4, 1), Trimestre='terceiro_trimestre', feriado=1, label=0.0, type_of_meal_plan_idx=0.0, type_of_meal_plan_ohe=SparseVector(3, {0: 1.0}), room_type_reserved_idx=3.0, room_type_reserved_ohe=SparseVector(7, {3: 1.0}), market_segment_type_idx=0.0, market_segment_type_ohe=SparseVector(5, {0: 1.0}), Trimestre_idx=0.0, Trimestre_ohe=SparseVector(3, {0: 1.0}), num_features=SparseVector(16, {2: 4.0, 3: 1.0, 4: 1.0, 5: 73.74, 8: 4.0, 9: 109.0, 10: 1.0, 12: 2.0, 13: 2018.0}), features=SparseVector(34, {0: 1.0, 6: 1.0, 10: 1.0, 15: 1.0, 20: 4.0, 21: 1.0, 22: 1.0, 23: 73.74, 26: 4.0, 27: 109.0, 28: 1.0, 30: 2.0, 31: 2018.0}))]"
            ]
          },
          "metadata": {},
          "execution_count": 24
        }
      ],
      "source": [
        "# Para otimizar performance na busca dos hiperperâmetros, colocamos as transformações no cache\n",
        "\n",
        "train_transformed.cache()\n",
        "train_transformed.take(1)"
      ]
    },
    {
      "cell_type": "code",
      "execution_count": 25,
      "metadata": {
        "application/vnd.databricks.v1+cell": {
          "cellMetadata": {
            "byteLimit": 2048000,
            "rowLimit": 10000
          },
          "inputWidgets": {},
          "nuid": "0a1a4fe7-ec8e-4775-b5a0-e8e7b2c075db",
          "showTitle": false,
          "tableResultSettingsMap": {},
          "title": ""
        },
        "id": "t-r9Luv40fHK"
      },
      "outputs": [],
      "source": [
        "# define a forma como as predições do nosso modelo serão avaliadas (area sobre a curva roc)\n",
        "evaluator = BinaryClassificationEvaluator( rawPredictionCol = 'probability' , labelCol = 'label', metricName ='areaUnderROC' )"
      ]
    },
    {
      "cell_type": "code",
      "execution_count": 26,
      "metadata": {
        "application/vnd.databricks.v1+cell": {
          "cellMetadata": {
            "byteLimit": 2048000,
            "rowLimit": 10000
          },
          "inputWidgets": {},
          "nuid": "9fe0e69c-e270-45a7-a353-305555f4f6b5",
          "showTitle": false,
          "tableResultSettingsMap": {},
          "title": ""
        },
        "id": "-4T6xgNY0fHL"
      },
      "outputs": [],
      "source": [
        "params_grid = ParamGridBuilder().build()"
      ]
    },
    {
      "cell_type": "code",
      "execution_count": 37,
      "metadata": {
        "application/vnd.databricks.v1+cell": {
          "cellMetadata": {
            "byteLimit": 2048000,
            "rowLimit": 10000
          },
          "inputWidgets": {},
          "nuid": "92b0c4f3-a5f3-4d34-adba-b99c65730531",
          "showTitle": false,
          "tableResultSettingsMap": {},
          "title": ""
        },
        "id": "rB5xO8gv0fHL"
      },
      "outputs": [],
      "source": [
        "def objective(trial):\n",
        "    param = {\n",
        "        \"max_depth\" : trial.suggest_int(\"max_depth\",3,10),\n",
        "        \"learning_rate\"  : trial.suggest_float('learning_rate', 1e-3, 1e-1, log = True),\n",
        "        \"n_estimators\"  : trial.suggest_categorical('n_estimators', [50,100,200,300]),\n",
        "        \"lambda\": trial.suggest_float(\"lambda\", 1e-8, 1.0, log=True),\n",
        "        \"alpha\": trial.suggest_float(\"alpha\", 1e-8, 1.0, log=True),\n",
        "        \"subsample\": trial.suggest_float(\"subsample\", 0.2, 1.0),\n",
        "        \"colsample_bytree\": trial.suggest_float(\"colsample_bytree\", 0.2, 1.0),\n",
        "    }\n",
        "\n",
        "    xgb = SparkXGBClassifier(num_workers= num_cluster,\n",
        "                                   label_col=\"label\",\n",
        "                                   features_col  = 'features',\n",
        "                                   verbose = False ,\n",
        "                                   **param)\n",
        "\n",
        "\n",
        "    cv = CrossValidator(estimator=xgb, estimatorParamMaps=params_grid, evaluator=evaluator, numFolds=5)\n",
        "\n",
        "    xgb_model = cv.fit(train_transformed)\n",
        "\n",
        "    pred = xgb_model.transform(train_transformed)\n",
        "\n",
        "    auc = evaluator.evaluate(pred)\n",
        "\n",
        "    return auc"
      ]
    },
    {
      "cell_type": "code",
      "execution_count": null,
      "metadata": {
        "application/vnd.databricks.v1+cell": {
          "cellMetadata": {
            "byteLimit": 2048000,
            "rowLimit": 10000
          },
          "inputWidgets": {},
          "nuid": "86d0b5c3-26eb-457c-a656-e2d72a34fcd1",
          "showTitle": false,
          "tableResultSettingsMap": {},
          "title": ""
        },
        "colab": {
          "base_uri": "https://localhost:8080/"
        },
        "id": "I5I56_ib0fHL",
        "outputId": "0315c5ff-b76f-4728-fd8c-67a29970ecf8"
      },
      "outputs": [
        {
          "output_type": "stream",
          "name": "stderr",
          "text": [
            "[I 2024-12-16 00:26:49,324] A new study created in memory with name: no-name-5085236e-a627-4f2a-b01a-52c1d06c068c\n",
            "INFO:XGBoost-PySpark:Running xgboost-2.1.3 on 2 workers with\n",
            "\tbooster params: {'colsample_bytree': 0.9122744787697783, 'device': 'cpu', 'learning_rate': 0.059591533827224624, 'max_depth': 6, 'objective': 'binary:logistic', 'subsample': 0.3947908636171944, 'lambda': 7.021439017676506e-05, 'alpha': 2.5608338032154226e-08, 'nthread': 1}\n",
            "\ttrain_call_kwargs_params: {'verbose_eval': False, 'num_boost_round': 100}\n",
            "\tdmatrix_kwargs: {'nthread': 1, 'missing': nan}\n",
            "INFO:XGBoost-PySpark:Finished xgboost training!\n",
            "INFO:XGBoost-PySpark:Running xgboost-2.1.3 on 2 workers with\n",
            "\tbooster params: {'colsample_bytree': 0.9122744787697783, 'device': 'cpu', 'learning_rate': 0.059591533827224624, 'max_depth': 6, 'objective': 'binary:logistic', 'subsample': 0.3947908636171944, 'lambda': 7.021439017676506e-05, 'alpha': 2.5608338032154226e-08, 'nthread': 1}\n",
            "\ttrain_call_kwargs_params: {'verbose_eval': False, 'num_boost_round': 100}\n",
            "\tdmatrix_kwargs: {'nthread': 1, 'missing': nan}\n",
            "INFO:XGBoost-PySpark:Finished xgboost training!\n",
            "INFO:XGBoost-PySpark:Running xgboost-2.1.3 on 2 workers with\n",
            "\tbooster params: {'colsample_bytree': 0.9122744787697783, 'device': 'cpu', 'learning_rate': 0.059591533827224624, 'max_depth': 6, 'objective': 'binary:logistic', 'subsample': 0.3947908636171944, 'lambda': 7.021439017676506e-05, 'alpha': 2.5608338032154226e-08, 'nthread': 1}\n",
            "\ttrain_call_kwargs_params: {'verbose_eval': False, 'num_boost_round': 100}\n",
            "\tdmatrix_kwargs: {'nthread': 1, 'missing': nan}\n",
            "INFO:XGBoost-PySpark:Finished xgboost training!\n",
            "INFO:XGBoost-PySpark:Running xgboost-2.1.3 on 2 workers with\n",
            "\tbooster params: {'colsample_bytree': 0.9122744787697783, 'device': 'cpu', 'learning_rate': 0.059591533827224624, 'max_depth': 6, 'objective': 'binary:logistic', 'subsample': 0.3947908636171944, 'lambda': 7.021439017676506e-05, 'alpha': 2.5608338032154226e-08, 'nthread': 1}\n",
            "\ttrain_call_kwargs_params: {'verbose_eval': False, 'num_boost_round': 100}\n",
            "\tdmatrix_kwargs: {'nthread': 1, 'missing': nan}\n",
            "INFO:XGBoost-PySpark:Finished xgboost training!\n",
            "INFO:XGBoost-PySpark:Running xgboost-2.1.3 on 2 workers with\n",
            "\tbooster params: {'colsample_bytree': 0.9122744787697783, 'device': 'cpu', 'learning_rate': 0.059591533827224624, 'max_depth': 6, 'objective': 'binary:logistic', 'subsample': 0.3947908636171944, 'lambda': 7.021439017676506e-05, 'alpha': 2.5608338032154226e-08, 'nthread': 1}\n",
            "\ttrain_call_kwargs_params: {'verbose_eval': False, 'num_boost_round': 100}\n",
            "\tdmatrix_kwargs: {'nthread': 1, 'missing': nan}\n",
            "INFO:XGBoost-PySpark:Finished xgboost training!\n",
            "INFO:XGBoost-PySpark:Running xgboost-2.1.3 on 2 workers with\n",
            "\tbooster params: {'objective': 'binary:logistic', 'colsample_bytree': 0.9122744787697783, 'device': 'cpu', 'learning_rate': 0.059591533827224624, 'max_depth': 6, 'subsample': 0.3947908636171944, 'lambda': 7.021439017676506e-05, 'alpha': 2.5608338032154226e-08, 'nthread': 1}\n",
            "\ttrain_call_kwargs_params: {'verbose_eval': False, 'num_boost_round': 100}\n",
            "\tdmatrix_kwargs: {'nthread': 1, 'missing': nan}\n",
            "INFO:XGBoost-PySpark:Finished xgboost training!\n",
            "[I 2024-12-16 00:27:28,311] Trial 0 finished with value: 0.9307361237485381 and parameters: {'max_depth': 6, 'learning_rate': 0.059591533827224624, 'n_estimators': 100, 'lambda': 7.021439017676506e-05, 'alpha': 2.5608338032154226e-08, 'subsample': 0.3947908636171944, 'colsample_bytree': 0.9122744787697783}. Best is trial 0 with value: 0.9307361237485381.\n",
            "INFO:XGBoost-PySpark:Running xgboost-2.1.3 on 2 workers with\n",
            "\tbooster params: {'colsample_bytree': 0.36433083046265535, 'device': 'cpu', 'learning_rate': 0.048631660075584525, 'max_depth': 6, 'objective': 'binary:logistic', 'subsample': 0.3725520468166097, 'lambda': 8.756284785908368e-05, 'alpha': 1.3862934078093458e-08, 'nthread': 1}\n",
            "\ttrain_call_kwargs_params: {'verbose_eval': False, 'num_boost_round': 200}\n",
            "\tdmatrix_kwargs: {'nthread': 1, 'missing': nan}\n",
            "INFO:XGBoost-PySpark:Finished xgboost training!\n",
            "INFO:XGBoost-PySpark:Running xgboost-2.1.3 on 2 workers with\n",
            "\tbooster params: {'colsample_bytree': 0.36433083046265535, 'device': 'cpu', 'learning_rate': 0.048631660075584525, 'max_depth': 6, 'objective': 'binary:logistic', 'subsample': 0.3725520468166097, 'lambda': 8.756284785908368e-05, 'alpha': 1.3862934078093458e-08, 'nthread': 1}\n",
            "\ttrain_call_kwargs_params: {'verbose_eval': False, 'num_boost_round': 200}\n",
            "\tdmatrix_kwargs: {'nthread': 1, 'missing': nan}\n",
            "INFO:XGBoost-PySpark:Finished xgboost training!\n",
            "INFO:XGBoost-PySpark:Running xgboost-2.1.3 on 2 workers with\n",
            "\tbooster params: {'colsample_bytree': 0.36433083046265535, 'device': 'cpu', 'learning_rate': 0.048631660075584525, 'max_depth': 6, 'objective': 'binary:logistic', 'subsample': 0.3725520468166097, 'lambda': 8.756284785908368e-05, 'alpha': 1.3862934078093458e-08, 'nthread': 1}\n",
            "\ttrain_call_kwargs_params: {'verbose_eval': False, 'num_boost_round': 200}\n",
            "\tdmatrix_kwargs: {'nthread': 1, 'missing': nan}\n",
            "INFO:XGBoost-PySpark:Finished xgboost training!\n",
            "INFO:XGBoost-PySpark:Running xgboost-2.1.3 on 2 workers with\n",
            "\tbooster params: {'colsample_bytree': 0.36433083046265535, 'device': 'cpu', 'learning_rate': 0.048631660075584525, 'max_depth': 6, 'objective': 'binary:logistic', 'subsample': 0.3725520468166097, 'lambda': 8.756284785908368e-05, 'alpha': 1.3862934078093458e-08, 'nthread': 1}\n",
            "\ttrain_call_kwargs_params: {'verbose_eval': False, 'num_boost_round': 200}\n",
            "\tdmatrix_kwargs: {'nthread': 1, 'missing': nan}\n",
            "INFO:XGBoost-PySpark:Finished xgboost training!\n",
            "INFO:XGBoost-PySpark:Running xgboost-2.1.3 on 2 workers with\n",
            "\tbooster params: {'colsample_bytree': 0.36433083046265535, 'device': 'cpu', 'learning_rate': 0.048631660075584525, 'max_depth': 6, 'objective': 'binary:logistic', 'subsample': 0.3725520468166097, 'lambda': 8.756284785908368e-05, 'alpha': 1.3862934078093458e-08, 'nthread': 1}\n",
            "\ttrain_call_kwargs_params: {'verbose_eval': False, 'num_boost_round': 200}\n",
            "\tdmatrix_kwargs: {'nthread': 1, 'missing': nan}\n",
            "INFO:XGBoost-PySpark:Finished xgboost training!\n"
          ]
        }
      ],
      "source": [
        "study = optuna.create_study(direction='maximize')\n",
        "study.optimize(objective, n_trials=50)"
      ]
    },
    {
      "cell_type": "code",
      "execution_count": null,
      "metadata": {
        "application/vnd.databricks.v1+cell": {
          "cellMetadata": {
            "byteLimit": 2048000,
            "rowLimit": 10000
          },
          "inputWidgets": {},
          "nuid": "a107a01f-3b8a-4513-8cde-3c20abd81ce8",
          "showTitle": false,
          "tableResultSettingsMap": {},
          "title": ""
        },
        "id": "hxWxNz8G0fHL"
      },
      "outputs": [],
      "source": [
        "# ajustar xgboost com melhores hyperparametros\n",
        "\n",
        "best_param = study.best_params\n",
        "\n",
        "best_xgb = SparkXGBClassifier(num_workers= 8,\n",
        "                                   label_col=\"label\",\n",
        "                                   features_col  = 'features',\n",
        "                                   **best_param)\n",
        "\n",
        "\n",
        "xgb_model_best = best_xgb.fit(train_transformed)\n"
      ]
    },
    {
      "cell_type": "code",
      "execution_count": null,
      "metadata": {
        "application/vnd.databricks.v1+cell": {
          "cellMetadata": {
            "byteLimit": 2048000,
            "rowLimit": 10000
          },
          "inputWidgets": {},
          "nuid": "14880125-bb70-41f5-876b-5ee754a11985",
          "showTitle": false,
          "tableResultSettingsMap": {},
          "title": ""
        },
        "id": "feBac1IU0fHL"
      },
      "outputs": [],
      "source": [
        "train_pred_best = xgb_model_best.transform(train_transformed)\n",
        "test_pred_best = xgb_model_best.transform(test_transformed)\n",
        "\n",
        "auc_train_best = evaluator.evaluate(train_pred_best)\n",
        "auc_test_best = evaluator.evaluate(test_pred_best)"
      ]
    },
    {
      "cell_type": "code",
      "execution_count": null,
      "metadata": {
        "application/vnd.databricks.v1+cell": {
          "cellMetadata": {
            "byteLimit": 2048000,
            "rowLimit": 10000
          },
          "inputWidgets": {},
          "nuid": "d7d17b1f-5fc7-4a48-8eb0-d1967ee0f69c",
          "showTitle": false,
          "tableResultSettingsMap": {},
          "title": ""
        },
        "id": "b5hbXKcK0fHM"
      },
      "outputs": [],
      "source": [
        "xgb = SparkXGBClassifier(num_workers= 8,\n",
        "                                   label_col=\"label\",\n",
        "                                   features_col  = 'features'\n",
        "                                   )\n",
        "\n",
        "#force_repartition=true\n",
        "xgb_model = xgb.fit(train_transformed)\n",
        "\n",
        "\n",
        "\n",
        "train_pred = xgb_model.transform(train_transformed)\n",
        "test_pred= xgb_model.transform(test_transformed)\n",
        "\n",
        "auc_train = evaluator.evaluate(train_pred)\n",
        "auc_test = evaluator.evaluate(test_pred)"
      ]
    },
    {
      "cell_type": "code",
      "execution_count": null,
      "metadata": {
        "application/vnd.databricks.v1+cell": {
          "cellMetadata": {
            "byteLimit": 2048000,
            "rowLimit": 10000
          },
          "inputWidgets": {},
          "nuid": "0904769c-526b-486b-835f-1a084e354633",
          "showTitle": false,
          "tableResultSettingsMap": {},
          "title": ""
        },
        "id": "fAUA-7H90fHM"
      },
      "outputs": [],
      "source": [
        "print(f'\\n  auc train padrao : {auc_train:.3f} auc train optuna {auc_train_best:.3f}  \\n auc test padrao {auc_test:.3f} auc test optuna {auc_test_best:.3f}')\n"
      ]
    }
  ],
  "metadata": {
    "application/vnd.databricks.v1+notebook": {
      "computePreferences": null,
      "dashboards": [],
      "environmentMetadata": {
        "base_environment": "",
        "client": "1"
      },
      "language": "python",
      "notebookMetadata": {
        "pythonIndentUnit": 4
      },
      "notebookName": "Treinamento xgboost optuna",
      "widgets": {}
    },
    "colab": {
      "provenance": [],
      "include_colab_link": true
    },
    "language_info": {
      "name": "python"
    },
    "kernelspec": {
      "name": "python3",
      "display_name": "Python 3"
    }
  },
  "nbformat": 4,
  "nbformat_minor": 0
}